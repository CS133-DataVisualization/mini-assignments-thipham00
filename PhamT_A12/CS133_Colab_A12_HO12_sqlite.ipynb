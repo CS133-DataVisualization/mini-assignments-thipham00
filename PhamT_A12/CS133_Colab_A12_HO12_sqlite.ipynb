{
  "cells": [
    {
      "cell_type": "markdown",
      "metadata": {
        "id": "ZgULxg_0AuZL"
      },
      "source": [
        "###**Q1**.  Use [Lucidchart](https://sjsu.edu/it/services/applications/lucidchart.php) to create an Entity Relationship Diagram (ERD) for the following tables representing a customer order tracking system:\n",
        "\n",
        "Tables and fields:\n",
        "1. product:\n",
        "    - product_id: INTEGER (Primary key)\n",
        "    - name: TEXT not null\n",
        "    - price: REAL\n",
        "\n",
        "\n",
        "2. customer:\n",
        "    - customer_id: INTEGER (Primary key)\n",
        "    - name: TEXT not null\n",
        "    - email: TEXT not null\n",
        "\n",
        "\n",
        "3. purchase_order:\n",
        "    - order_id: INTEGER (Primary key)\n",
        "    - customer_id: INTEGER (Foreign key)\n",
        "    - date: TEXT not null (\"YYYY-MM-DD\")\n",
        "\n",
        "\n",
        "4. order_item:\n",
        "    - order_id: INTEGER (Foreign key)\n",
        "    - product_id: INTEGER (Foreign key)\n",
        "    - quantity: INTEGER\n",
        "    \n",
        "\n",
        "\n",
        "Export the ERD as PDF and submit it in Canvas."
      ]
    },
    {
      "cell_type": "markdown",
      "metadata": {
        "id": "PZJtgMx7AuZO"
      },
      "source": [
        "###**Q2**. Create SQLite tables and load data\n",
        "1. Here are the csv files for the data for the four tables:\n",
        "   - product: https://raw.githubusercontent.com/csbfx/cs133/main/product.csv\n",
        "   - customer: https://raw.githubusercontent.com/csbfx/cs133/main/customer.csv\n",
        "   - order_item: https://raw.githubusercontent.com/csbfx/cs133/main/order_item.csv\n",
        "   - purchase_order: https://raw.githubusercontent.com/csbfx/cs133/main/purchase_order.csv\n",
        "2. In this notebook, create the database and save it in a file called `store.db`, and create the four tables as described above.\n",
        "3. Load the data in the csv files into the corresponding table.\n",
        "4. Commit so that the data loaded to the tables to officially written to the tables.\n",
        "5. Execute a query SELECT * from each table to make sure the data are properly loaded.\n",
        "6. Execute a query using SELECT statement that queries with JOIN tables to find the purchase date, the products and quantities that a particular customer has purchased."
      ]
    },
    {
      "cell_type": "code",
      "execution_count": 1,
      "metadata": {
        "id": "w4xnppG8AuZP"
      },
      "outputs": [],
      "source": [
        "# 2.2 Create the database and save it in a file called store.db, and create the four tables as described above.\n",
        "# Your code here . . .\n",
        "import sqlite3\n",
        "import pandas as pd\n",
        "from pathlib import Path\n",
        "\n",
        "Path('store.db').touch()\n",
        "conn = sqlite3.connect('store.db')\n",
        "conn.execute(\"PRAGMA foreign_keys = 1\")\n",
        "c = conn.cursor()"
      ]
    },
    {
      "cell_type": "code",
      "source": [
        "# Create Product Table\n",
        "SQL_CreateProductTable = '''\n",
        "    CREATE TABLE IF NOT EXISTS product (\n",
        "        product_id INTEGER PRIMARY KEY,\n",
        "        name TEXT NOT NULL,\n",
        "        price REAL\n",
        "    );\n",
        "'''\n",
        "\n",
        "# Create Customer Table\n",
        "SQL_CreateCustomerTable = '''\n",
        "    CREATE TABLE IF NOT EXISTS customer (\n",
        "        customer_id INTEGER PRIMARY KEY,\n",
        "        name TEXT NOT NULL,\n",
        "        email TEXT NOT NULL\n",
        "    );\n",
        "'''\n",
        "\n",
        "# Create Order_Item Table\n",
        "SQL_CreateOrderItemTable = '''\n",
        "    CREATE TABLE IF NOT EXISTS order_item (\n",
        "        order_id INTEGER,\n",
        "        product_id INTEGER,\n",
        "        quantity INTEGER,\n",
        "        FOREIGN KEY (order_id) REFERENCES purchase_order(order_id),\n",
        "        FOREIGN KEY (product_id) REFERENCES product(product_id)\n",
        "    );\n",
        "'''\n",
        "\n",
        "# Create Purchase_Order Table\n",
        "SQL_CreatePurchaseOrderTable = '''\n",
        "    CREATE TABLE IF NOT EXISTS purchase_order (\n",
        "        order_id INTEGER PRIMARY KEY,\n",
        "        customer_id INTEGER,\n",
        "        date TEXT NOT NULL,\n",
        "        FOREIGN KEY (customer_id) REFERENCES customer(customer_id)\n",
        "    );\n",
        "'''\n",
        "\n",
        "c.execute(SQL_CreateProductTable)\n",
        "c.execute(SQL_CreateCustomerTable)\n",
        "c.execute(SQL_CreateOrderItemTable)\n",
        "c.execute(SQL_CreatePurchaseOrderTable)"
      ],
      "metadata": {
        "colab": {
          "base_uri": "https://localhost:8080/"
        },
        "id": "yuieS4V5cWxS",
        "outputId": "7c89fd2a-69fa-49c2-b0e4-26f970a62c1f"
      },
      "execution_count": 15,
      "outputs": [
        {
          "output_type": "execute_result",
          "data": {
            "text/plain": [
              "<sqlite3.Cursor at 0x7dabe03bf9c0>"
            ]
          },
          "metadata": {},
          "execution_count": 15
        }
      ]
    },
    {
      "cell_type": "code",
      "source": [
        "# 2.3 Load the data in the csv files into the corresponding table.\n",
        "# Your code here . . .\n",
        "product_data = pd.read_csv('https://raw.githubusercontent.com/csbfx/cs133/main/product.csv')\n",
        "customer_data = pd.read_csv('https://raw.githubusercontent.com/csbfx/cs133/main/customer.csv')\n",
        "order_item_data = pd.read_csv('https://raw.githubusercontent.com/csbfx/cs133/main/order_item.csv')\n",
        "purchase_order_data = pd.read_csv('https://raw.githubusercontent.com/csbfx/cs133/main/purchase_order.csv')\n",
        "\n",
        "# Insert data into tables\n",
        "product_data.to_sql('product', conn, if_exists='replace', index=False)\n",
        "customer_data.to_sql('customer', conn, if_exists='replace', index=False)\n",
        "order_item_data.to_sql('order_item', conn, if_exists='replace', index=False)\n",
        "purchase_order_data.to_sql('purchase_order', conn, if_exists='replace', index=False)"
      ],
      "metadata": {
        "id": "WPRhy-dSBY-c",
        "colab": {
          "base_uri": "https://localhost:8080/"
        },
        "outputId": "ef70bcb1-5d45-444f-819a-277ab83ee5c6"
      },
      "execution_count": 16,
      "outputs": [
        {
          "output_type": "execute_result",
          "data": {
            "text/plain": [
              "3"
            ]
          },
          "metadata": {},
          "execution_count": 16
        }
      ]
    },
    {
      "cell_type": "code",
      "source": [
        "# 2.4 Commit so that the data loaded to the tables to officially written to the tables.\n",
        "# Your code here . . .\n",
        "conn.commit()"
      ],
      "metadata": {
        "id": "VIBaGXPABbVO"
      },
      "execution_count": 17,
      "outputs": []
    },
    {
      "cell_type": "code",
      "source": [
        "# 2.5 Execute a query SELECT * from each table to make sure the data are properly loaded.\n",
        "# Your code here . . .\n",
        "c.execute(\"SELECT * FROM product\")\n",
        "results = c.fetchall()\n",
        "print(results)\n",
        "\n",
        "c.execute(\"SELECT * FROM customer\")\n",
        "results = c.fetchall()\n",
        "print(results)\n",
        "\n",
        "c.execute(\"SELECT * FROM order_item\")\n",
        "results = c.fetchall()\n",
        "print(results)\n",
        "\n",
        "c.execute(\"SELECT * FROM purchase_order\")\n",
        "results = c.fetchall()\n",
        "print(results)"
      ],
      "metadata": {
        "id": "wPHFswfYBgan",
        "colab": {
          "base_uri": "https://localhost:8080/"
        },
        "outputId": "14ebc867-b99c-4142-ad59-940af0864b96"
      },
      "execution_count": 18,
      "outputs": [
        {
          "output_type": "stream",
          "name": "stdout",
          "text": [
            "[(0, 'bicycle', 400), (1, 'helmet', 45), (2, 'gloves', 23), (3, 'chain', 48)]\n",
            "[(0, 'Wendy Lee', 'wlee@bike.com'), (1, 'Jason Brown', 'jb@speed.com'), (2, 'Harry Potter', 'hp@hogwarts.edu'), (3, 'Godric Gryffindor', 'gg@hogwards.edu')]\n",
            "[(0, 0, 1), (0, 1, 1), (1, 2, 2), (1, 3, 1)]\n",
            "[(0, 0, '2020-10-19'), (1, 0, '2020-10-20'), (2, 1, '2020-10-20')]\n"
          ]
        }
      ]
    },
    {
      "cell_type": "code",
      "source": [
        "# 2.6 Execute a query using SELECT statement that queries with JOIN tables to find the purchase date,\n",
        "#    the products and quantities that a particular customer has purchased.\n",
        "# Your code here . . .\n",
        "query = '''\n",
        "    SELECT customer.name AS customer_name,\n",
        "           purchase_order.date AS purchase_date,\n",
        "           product.name AS product_name,\n",
        "           order_item.quantity AS quantity\n",
        "    FROM customer\n",
        "    JOIN purchase_order ON customer.customer_id = purchase_order.customer_id\n",
        "    JOIN order_item ON purchase_order.order_id = order_item.order_id\n",
        "    JOIN product ON order_item.product_id = product.product_id\n",
        "    WHERE customer.name = 'Wendy Lee'\n",
        "'''\n",
        "c.execute(query)\n",
        "results = c.fetchall()\n",
        "results"
      ],
      "metadata": {
        "id": "armxZeMPBmSe",
        "colab": {
          "base_uri": "https://localhost:8080/"
        },
        "outputId": "e6cf1cc7-ba38-4249-f2d3-83e7b0158945"
      },
      "execution_count": 19,
      "outputs": [
        {
          "output_type": "execute_result",
          "data": {
            "text/plain": [
              "[('Wendy Lee', '2020-10-19', 'bicycle', 1),\n",
              " ('Wendy Lee', '2020-10-19', 'helmet', 1),\n",
              " ('Wendy Lee', '2020-10-20', 'gloves', 2),\n",
              " ('Wendy Lee', '2020-10-20', 'chain', 1)]"
            ]
          },
          "metadata": {},
          "execution_count": 19
        }
      ]
    },
    {
      "cell_type": "code",
      "source": [
        "# Additional tasks\n",
        "# Appending a new row to customer table\n",
        "new_customer = '''\n",
        "    INSERT OR IGNORE INTO customer (customer_id, name, email)\n",
        "    VALUES (4, 'Thi Pham', 'thip@abc.com')\n",
        "'''\n",
        "c.execute(new_customer)\n",
        "conn.commit()\n",
        "\n",
        "c.execute(\"SELECT * FROM customer\")\n",
        "results = c.fetchall()\n",
        "print(results)\n",
        "\n",
        "# Deleting row(s) with \"XXX\"\n",
        "\n",
        "c.execute(\"DELETE FROM customer WHERE customer_id = 2\")\n",
        "conn.commit()\n",
        "\n",
        "c.execute(\"SELECT * FROM customer\")\n",
        "results = c.fetchall()\n",
        "print(results)"
      ],
      "metadata": {
        "id": "h17Hwcs5jvoA",
        "colab": {
          "base_uri": "https://localhost:8080/"
        },
        "outputId": "7fe80306-45e7-491d-eef7-aca0b8fdec13"
      },
      "execution_count": 20,
      "outputs": [
        {
          "output_type": "stream",
          "name": "stdout",
          "text": [
            "[(0, 'Wendy Lee', 'wlee@bike.com'), (1, 'Jason Brown', 'jb@speed.com'), (2, 'Harry Potter', 'hp@hogwarts.edu'), (3, 'Godric Gryffindor', 'gg@hogwards.edu'), (4, 'Thi Pham', 'thip@abc.com')]\n",
            "[(0, 'Wendy Lee', 'wlee@bike.com'), (1, 'Jason Brown', 'jb@speed.com'), (3, 'Godric Gryffindor', 'gg@hogwards.edu'), (4, 'Thi Pham', 'thip@abc.com')]\n"
          ]
        }
      ]
    }
  ],
  "metadata": {
    "kernelspec": {
      "display_name": "Python 3",
      "language": "python",
      "name": "python3"
    },
    "language_info": {
      "codemirror_mode": {
        "name": "ipython",
        "version": 3
      },
      "file_extension": ".py",
      "mimetype": "text/x-python",
      "name": "python",
      "nbconvert_exporter": "python",
      "pygments_lexer": "ipython3",
      "version": "3.7.6"
    },
    "colab": {
      "provenance": []
    }
  },
  "nbformat": 4,
  "nbformat_minor": 0
}